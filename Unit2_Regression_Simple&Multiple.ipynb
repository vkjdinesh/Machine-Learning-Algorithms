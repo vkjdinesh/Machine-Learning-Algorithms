{
  "nbformat": 4,
  "nbformat_minor": 0,
  "metadata": {
    "colab": {
      "name": "Unit2_Regression_Simple&Multiple.ipynb",
      "provenance": [],
      "authorship_tag": "ABX9TyNnM1pCCCmeZ7Q10HE5Q1/O",
      "include_colab_link": true
    },
    "kernelspec": {
      "name": "python3",
      "display_name": "Python 3"
    },
    "language_info": {
      "name": "python"
    }
  },
  "cells": [
    {
      "cell_type": "markdown",
      "metadata": {
        "id": "view-in-github",
        "colab_type": "text"
      },
      "source": [
        "<a href=\"https://colab.research.google.com/github/vkjdinesh/Machine-Learning-Algorithms/blob/main/Unit2_Regression_Simple%26Multiple.ipynb\" target=\"_parent\"><img src=\"https://colab.research.google.com/assets/colab-badge.svg\" alt=\"Open In Colab\"/></a>"
      ]
    },
    {
      "cell_type": "code",
      "source": [
        "#lib\n",
        "import sklearn\n",
        "import numpy as np\n",
        "import pandas as pd\n",
        "import matplotlib.pyplot as plt\n",
        "from sklearn import datasets\n",
        "from sklearn.model_selection import train_test_split\n",
        "from sklearn.linear_model import LinearRegression"
      ],
      "metadata": {
        "id": "muU6qNdGKHoV"
      },
      "execution_count": 39,
      "outputs": []
    },
    {
      "cell_type": "code",
      "source": [
        "#dataset\n",
        "from google.colab import files\n",
        "upload = files.upload()"
      ],
      "metadata": {
        "colab": {
          "resources": {
            "http://localhost:8080/nbextensions/google.colab/files.js": {
              "data": "Ly8gQ29weXJpZ2h0IDIwMTcgR29vZ2xlIExMQwovLwovLyBMaWNlbnNlZCB1bmRlciB0aGUgQXBhY2hlIExpY2Vuc2UsIFZlcnNpb24gMi4wICh0aGUgIkxpY2Vuc2UiKTsKLy8geW91IG1heSBub3QgdXNlIHRoaXMgZmlsZSBleGNlcHQgaW4gY29tcGxpYW5jZSB3aXRoIHRoZSBMaWNlbnNlLgovLyBZb3UgbWF5IG9idGFpbiBhIGNvcHkgb2YgdGhlIExpY2Vuc2UgYXQKLy8KLy8gICAgICBodHRwOi8vd3d3LmFwYWNoZS5vcmcvbGljZW5zZXMvTElDRU5TRS0yLjAKLy8KLy8gVW5sZXNzIHJlcXVpcmVkIGJ5IGFwcGxpY2FibGUgbGF3IG9yIGFncmVlZCB0byBpbiB3cml0aW5nLCBzb2Z0d2FyZQovLyBkaXN0cmlidXRlZCB1bmRlciB0aGUgTGljZW5zZSBpcyBkaXN0cmlidXRlZCBvbiBhbiAiQVMgSVMiIEJBU0lTLAovLyBXSVRIT1VUIFdBUlJBTlRJRVMgT1IgQ09ORElUSU9OUyBPRiBBTlkgS0lORCwgZWl0aGVyIGV4cHJlc3Mgb3IgaW1wbGllZC4KLy8gU2VlIHRoZSBMaWNlbnNlIGZvciB0aGUgc3BlY2lmaWMgbGFuZ3VhZ2UgZ292ZXJuaW5nIHBlcm1pc3Npb25zIGFuZAovLyBsaW1pdGF0aW9ucyB1bmRlciB0aGUgTGljZW5zZS4KCi8qKgogKiBAZmlsZW92ZXJ2aWV3IEhlbHBlcnMgZm9yIGdvb2dsZS5jb2xhYiBQeXRob24gbW9kdWxlLgogKi8KKGZ1bmN0aW9uKHNjb3BlKSB7CmZ1bmN0aW9uIHNwYW4odGV4dCwgc3R5bGVBdHRyaWJ1dGVzID0ge30pIHsKICBjb25zdCBlbGVtZW50ID0gZG9jdW1lbnQuY3JlYXRlRWxlbWVudCgnc3BhbicpOwogIGVsZW1lbnQudGV4dENvbnRlbnQgPSB0ZXh0OwogIGZvciAoY29uc3Qga2V5IG9mIE9iamVjdC5rZXlzKHN0eWxlQXR0cmlidXRlcykpIHsKICAgIGVsZW1lbnQuc3R5bGVba2V5XSA9IHN0eWxlQXR0cmlidXRlc1trZXldOwogIH0KICByZXR1cm4gZWxlbWVudDsKfQoKLy8gTWF4IG51bWJlciBvZiBieXRlcyB3aGljaCB3aWxsIGJlIHVwbG9hZGVkIGF0IGEgdGltZS4KY29uc3QgTUFYX1BBWUxPQURfU0laRSA9IDEwMCAqIDEwMjQ7CgpmdW5jdGlvbiBfdXBsb2FkRmlsZXMoaW5wdXRJZCwgb3V0cHV0SWQpIHsKICBjb25zdCBzdGVwcyA9IHVwbG9hZEZpbGVzU3RlcChpbnB1dElkLCBvdXRwdXRJZCk7CiAgY29uc3Qgb3V0cHV0RWxlbWVudCA9IGRvY3VtZW50LmdldEVsZW1lbnRCeUlkKG91dHB1dElkKTsKICAvLyBDYWNoZSBzdGVwcyBvbiB0aGUgb3V0cHV0RWxlbWVudCB0byBtYWtlIGl0IGF2YWlsYWJsZSBmb3IgdGhlIG5leHQgY2FsbAogIC8vIHRvIHVwbG9hZEZpbGVzQ29udGludWUgZnJvbSBQeXRob24uCiAgb3V0cHV0RWxlbWVudC5zdGVwcyA9IHN0ZXBzOwoKICByZXR1cm4gX3VwbG9hZEZpbGVzQ29udGludWUob3V0cHV0SWQpOwp9CgovLyBUaGlzIGlzIHJvdWdobHkgYW4gYXN5bmMgZ2VuZXJhdG9yIChub3Qgc3VwcG9ydGVkIGluIHRoZSBicm93c2VyIHlldCksCi8vIHdoZXJlIHRoZXJlIGFyZSBtdWx0aXBsZSBhc3luY2hyb25vdXMgc3RlcHMgYW5kIHRoZSBQeXRob24gc2lkZSBpcyBnb2luZwovLyB0byBwb2xsIGZvciBjb21wbGV0aW9uIG9mIGVhY2ggc3RlcC4KLy8gVGhpcyB1c2VzIGEgUHJvbWlzZSB0byBibG9jayB0aGUgcHl0aG9uIHNpZGUgb24gY29tcGxldGlvbiBvZiBlYWNoIHN0ZXAsCi8vIHRoZW4gcGFzc2VzIHRoZSByZXN1bHQgb2YgdGhlIHByZXZpb3VzIHN0ZXAgYXMgdGhlIGlucHV0IHRvIHRoZSBuZXh0IHN0ZXAuCmZ1bmN0aW9uIF91cGxvYWRGaWxlc0NvbnRpbnVlKG91dHB1dElkKSB7CiAgY29uc3Qgb3V0cHV0RWxlbWVudCA9IGRvY3VtZW50LmdldEVsZW1lbnRCeUlkKG91dHB1dElkKTsKICBjb25zdCBzdGVwcyA9IG91dHB1dEVsZW1lbnQuc3RlcHM7CgogIGNvbnN0IG5leHQgPSBzdGVwcy5uZXh0KG91dHB1dEVsZW1lbnQubGFzdFByb21pc2VWYWx1ZSk7CiAgcmV0dXJuIFByb21pc2UucmVzb2x2ZShuZXh0LnZhbHVlLnByb21pc2UpLnRoZW4oKHZhbHVlKSA9PiB7CiAgICAvLyBDYWNoZSB0aGUgbGFzdCBwcm9taXNlIHZhbHVlIHRvIG1ha2UgaXQgYXZhaWxhYmxlIHRvIHRoZSBuZXh0CiAgICAvLyBzdGVwIG9mIHRoZSBnZW5lcmF0b3IuCiAgICBvdXRwdXRFbGVtZW50Lmxhc3RQcm9taXNlVmFsdWUgPSB2YWx1ZTsKICAgIHJldHVybiBuZXh0LnZhbHVlLnJlc3BvbnNlOwogIH0pOwp9CgovKioKICogR2VuZXJhdG9yIGZ1bmN0aW9uIHdoaWNoIGlzIGNhbGxlZCBiZXR3ZWVuIGVhY2ggYXN5bmMgc3RlcCBvZiB0aGUgdXBsb2FkCiAqIHByb2Nlc3MuCiAqIEBwYXJhbSB7c3RyaW5nfSBpbnB1dElkIEVsZW1lbnQgSUQgb2YgdGhlIGlucHV0IGZpbGUgcGlja2VyIGVsZW1lbnQuCiAqIEBwYXJhbSB7c3RyaW5nfSBvdXRwdXRJZCBFbGVtZW50IElEIG9mIHRoZSBvdXRwdXQgZGlzcGxheS4KICogQHJldHVybiB7IUl0ZXJhYmxlPCFPYmplY3Q+fSBJdGVyYWJsZSBvZiBuZXh0IHN0ZXBzLgogKi8KZnVuY3Rpb24qIHVwbG9hZEZpbGVzU3RlcChpbnB1dElkLCBvdXRwdXRJZCkgewogIGNvbnN0IGlucHV0RWxlbWVudCA9IGRvY3VtZW50LmdldEVsZW1lbnRCeUlkKGlucHV0SWQpOwogIGlucHV0RWxlbWVudC5kaXNhYmxlZCA9IGZhbHNlOwoKICBjb25zdCBvdXRwdXRFbGVtZW50ID0gZG9jdW1lbnQuZ2V0RWxlbWVudEJ5SWQob3V0cHV0SWQpOwogIG91dHB1dEVsZW1lbnQuaW5uZXJIVE1MID0gJyc7CgogIGNvbnN0IHBpY2tlZFByb21pc2UgPSBuZXcgUHJvbWlzZSgocmVzb2x2ZSkgPT4gewogICAgaW5wdXRFbGVtZW50LmFkZEV2ZW50TGlzdGVuZXIoJ2NoYW5nZScsIChlKSA9PiB7CiAgICAgIHJlc29sdmUoZS50YXJnZXQuZmlsZXMpOwogICAgfSk7CiAgfSk7CgogIGNvbnN0IGNhbmNlbCA9IGRvY3VtZW50LmNyZWF0ZUVsZW1lbnQoJ2J1dHRvbicpOwogIGlucHV0RWxlbWVudC5wYXJlbnRFbGVtZW50LmFwcGVuZENoaWxkKGNhbmNlbCk7CiAgY2FuY2VsLnRleHRDb250ZW50ID0gJ0NhbmNlbCB1cGxvYWQnOwogIGNvbnN0IGNhbmNlbFByb21pc2UgPSBuZXcgUHJvbWlzZSgocmVzb2x2ZSkgPT4gewogICAgY2FuY2VsLm9uY2xpY2sgPSAoKSA9PiB7CiAgICAgIHJlc29sdmUobnVsbCk7CiAgICB9OwogIH0pOwoKICAvLyBXYWl0IGZvciB0aGUgdXNlciB0byBwaWNrIHRoZSBmaWxlcy4KICBjb25zdCBmaWxlcyA9IHlpZWxkIHsKICAgIHByb21pc2U6IFByb21pc2UucmFjZShbcGlja2VkUHJvbWlzZSwgY2FuY2VsUHJvbWlzZV0pLAogICAgcmVzcG9uc2U6IHsKICAgICAgYWN0aW9uOiAnc3RhcnRpbmcnLAogICAgfQogIH07CgogIGNhbmNlbC5yZW1vdmUoKTsKCiAgLy8gRGlzYWJsZSB0aGUgaW5wdXQgZWxlbWVudCBzaW5jZSBmdXJ0aGVyIHBpY2tzIGFyZSBub3QgYWxsb3dlZC4KICBpbnB1dEVsZW1lbnQuZGlzYWJsZWQgPSB0cnVlOwoKICBpZiAoIWZpbGVzKSB7CiAgICByZXR1cm4gewogICAgICByZXNwb25zZTogewogICAgICAgIGFjdGlvbjogJ2NvbXBsZXRlJywKICAgICAgfQogICAgfTsKICB9CgogIGZvciAoY29uc3QgZmlsZSBvZiBmaWxlcykgewogICAgY29uc3QgbGkgPSBkb2N1bWVudC5jcmVhdGVFbGVtZW50KCdsaScpOwogICAgbGkuYXBwZW5kKHNwYW4oZmlsZS5uYW1lLCB7Zm9udFdlaWdodDogJ2JvbGQnfSkpOwogICAgbGkuYXBwZW5kKHNwYW4oCiAgICAgICAgYCgke2ZpbGUudHlwZSB8fCAnbi9hJ30pIC0gJHtmaWxlLnNpemV9IGJ5dGVzLCBgICsKICAgICAgICBgbGFzdCBtb2RpZmllZDogJHsKICAgICAgICAgICAgZmlsZS5sYXN0TW9kaWZpZWREYXRlID8gZmlsZS5sYXN0TW9kaWZpZWREYXRlLnRvTG9jYWxlRGF0ZVN0cmluZygpIDoKICAgICAgICAgICAgICAgICAgICAgICAgICAgICAgICAgICAgJ24vYSd9IC0gYCkpOwogICAgY29uc3QgcGVyY2VudCA9IHNwYW4oJzAlIGRvbmUnKTsKICAgIGxpLmFwcGVuZENoaWxkKHBlcmNlbnQpOwoKICAgIG91dHB1dEVsZW1lbnQuYXBwZW5kQ2hpbGQobGkpOwoKICAgIGNvbnN0IGZpbGVEYXRhUHJvbWlzZSA9IG5ldyBQcm9taXNlKChyZXNvbHZlKSA9PiB7CiAgICAgIGNvbnN0IHJlYWRlciA9IG5ldyBGaWxlUmVhZGVyKCk7CiAgICAgIHJlYWRlci5vbmxvYWQgPSAoZSkgPT4gewogICAgICAgIHJlc29sdmUoZS50YXJnZXQucmVzdWx0KTsKICAgICAgfTsKICAgICAgcmVhZGVyLnJlYWRBc0FycmF5QnVmZmVyKGZpbGUpOwogICAgfSk7CiAgICAvLyBXYWl0IGZvciB0aGUgZGF0YSB0byBiZSByZWFkeS4KICAgIGxldCBmaWxlRGF0YSA9IHlpZWxkIHsKICAgICAgcHJvbWlzZTogZmlsZURhdGFQcm9taXNlLAogICAgICByZXNwb25zZTogewogICAgICAgIGFjdGlvbjogJ2NvbnRpbnVlJywKICAgICAgfQogICAgfTsKCiAgICAvLyBVc2UgYSBjaHVua2VkIHNlbmRpbmcgdG8gYXZvaWQgbWVzc2FnZSBzaXplIGxpbWl0cy4gU2VlIGIvNjIxMTU2NjAuCiAgICBsZXQgcG9zaXRpb24gPSAwOwogICAgZG8gewogICAgICBjb25zdCBsZW5ndGggPSBNYXRoLm1pbihmaWxlRGF0YS5ieXRlTGVuZ3RoIC0gcG9zaXRpb24sIE1BWF9QQVlMT0FEX1NJWkUpOwogICAgICBjb25zdCBjaHVuayA9IG5ldyBVaW50OEFycmF5KGZpbGVEYXRhLCBwb3NpdGlvbiwgbGVuZ3RoKTsKICAgICAgcG9zaXRpb24gKz0gbGVuZ3RoOwoKICAgICAgY29uc3QgYmFzZTY0ID0gYnRvYShTdHJpbmcuZnJvbUNoYXJDb2RlLmFwcGx5KG51bGwsIGNodW5rKSk7CiAgICAgIHlpZWxkIHsKICAgICAgICByZXNwb25zZTogewogICAgICAgICAgYWN0aW9uOiAnYXBwZW5kJywKICAgICAgICAgIGZpbGU6IGZpbGUubmFtZSwKICAgICAgICAgIGRhdGE6IGJhc2U2NCwKICAgICAgICB9LAogICAgICB9OwoKICAgICAgbGV0IHBlcmNlbnREb25lID0gZmlsZURhdGEuYnl0ZUxlbmd0aCA9PT0gMCA/CiAgICAgICAgICAxMDAgOgogICAgICAgICAgTWF0aC5yb3VuZCgocG9zaXRpb24gLyBmaWxlRGF0YS5ieXRlTGVuZ3RoKSAqIDEwMCk7CiAgICAgIHBlcmNlbnQudGV4dENvbnRlbnQgPSBgJHtwZXJjZW50RG9uZX0lIGRvbmVgOwoKICAgIH0gd2hpbGUgKHBvc2l0aW9uIDwgZmlsZURhdGEuYnl0ZUxlbmd0aCk7CiAgfQoKICAvLyBBbGwgZG9uZS4KICB5aWVsZCB7CiAgICByZXNwb25zZTogewogICAgICBhY3Rpb246ICdjb21wbGV0ZScsCiAgICB9CiAgfTsKfQoKc2NvcGUuZ29vZ2xlID0gc2NvcGUuZ29vZ2xlIHx8IHt9OwpzY29wZS5nb29nbGUuY29sYWIgPSBzY29wZS5nb29nbGUuY29sYWIgfHwge307CnNjb3BlLmdvb2dsZS5jb2xhYi5fZmlsZXMgPSB7CiAgX3VwbG9hZEZpbGVzLAogIF91cGxvYWRGaWxlc0NvbnRpbnVlLAp9Owp9KShzZWxmKTsK",
              "ok": true,
              "headers": [
                [
                  "content-type",
                  "application/javascript"
                ]
              ],
              "status": 200,
              "status_text": ""
            }
          },
          "base_uri": "https://localhost:8080/",
          "height": 74
        },
        "id": "e7nXiAbpVvkT",
        "outputId": "60b7ee70-427c-4d8d-f297-60e939575a5b"
      },
      "execution_count": 43,
      "outputs": [
        {
          "output_type": "display_data",
          "data": {
            "text/plain": [
              "<IPython.core.display.HTML object>"
            ],
            "text/html": [
              "\n",
              "     <input type=\"file\" id=\"files-3e586abb-9063-44d3-b82c-24573f2297f2\" name=\"files[]\" multiple disabled\n",
              "        style=\"border:none\" />\n",
              "     <output id=\"result-3e586abb-9063-44d3-b82c-24573f2297f2\">\n",
              "      Upload widget is only available when the cell has been executed in the\n",
              "      current browser session. Please rerun this cell to enable.\n",
              "      </output>\n",
              "      <script src=\"/nbextensions/google.colab/files.js\"></script> "
            ]
          },
          "metadata": {}
        },
        {
          "output_type": "stream",
          "name": "stdout",
          "text": [
            "Saving FuelConsumption.csv to FuelConsumption.csv\n"
          ]
        }
      ]
    },
    {
      "cell_type": "code",
      "source": [
        "dataset = pd.read_csv('FuelConsumption.csv')\n",
        "dataset.head(5)"
      ],
      "metadata": {
        "colab": {
          "base_uri": "https://localhost:8080/",
          "height": 322
        },
        "id": "HX2qUXftWcUR",
        "outputId": "0ddfd2f4-4da0-43a8-d70b-fb8c31d5c0b5"
      },
      "execution_count": 42,
      "outputs": [
        {
          "output_type": "execute_result",
          "data": {
            "text/plain": [
              "   MODELYEAR   MAKE       MODEL VEHICLECLASS  ENGINESIZE  CYLINDERS  \\\n",
              "0       2014  ACURA         ILX      COMPACT         2.0          4   \n",
              "1       2014  ACURA         ILX      COMPACT         2.4          4   \n",
              "2       2014  ACURA  ILX HYBRID      COMPACT         1.5          4   \n",
              "3       2014  ACURA     MDX 4WD  SUV - SMALL         3.5          6   \n",
              "4       2014  ACURA     RDX AWD  SUV - SMALL         3.5          6   \n",
              "\n",
              "  TRANSMISSION FUELTYPE  FUELCONSUMPTION_CITY  FUELCONSUMPTION_HWY  \\\n",
              "0          AS5        Z                   9.9                  6.7   \n",
              "1           M6        Z                  11.2                  7.7   \n",
              "2          AV7        Z                   6.0                  5.8   \n",
              "3          AS6        Z                  12.7                  9.1   \n",
              "4          AS6        Z                  12.1                  8.7   \n",
              "\n",
              "   FUELCONSUMPTION_COMB  FUELCONSUMPTION_COMB_MPG  CO2EMISSIONS  \n",
              "0                   8.5                        33           196  \n",
              "1                   9.6                        29           221  \n",
              "2                   5.9                        48           136  \n",
              "3                  11.1                        25           255  \n",
              "4                  10.6                        27           244  "
            ],
            "text/html": [
              "\n",
              "  <div id=\"df-fcf1a93c-e5fc-45bd-8485-c49532d90baa\">\n",
              "    <div class=\"colab-df-container\">\n",
              "      <div>\n",
              "<style scoped>\n",
              "    .dataframe tbody tr th:only-of-type {\n",
              "        vertical-align: middle;\n",
              "    }\n",
              "\n",
              "    .dataframe tbody tr th {\n",
              "        vertical-align: top;\n",
              "    }\n",
              "\n",
              "    .dataframe thead th {\n",
              "        text-align: right;\n",
              "    }\n",
              "</style>\n",
              "<table border=\"1\" class=\"dataframe\">\n",
              "  <thead>\n",
              "    <tr style=\"text-align: right;\">\n",
              "      <th></th>\n",
              "      <th>MODELYEAR</th>\n",
              "      <th>MAKE</th>\n",
              "      <th>MODEL</th>\n",
              "      <th>VEHICLECLASS</th>\n",
              "      <th>ENGINESIZE</th>\n",
              "      <th>CYLINDERS</th>\n",
              "      <th>TRANSMISSION</th>\n",
              "      <th>FUELTYPE</th>\n",
              "      <th>FUELCONSUMPTION_CITY</th>\n",
              "      <th>FUELCONSUMPTION_HWY</th>\n",
              "      <th>FUELCONSUMPTION_COMB</th>\n",
              "      <th>FUELCONSUMPTION_COMB_MPG</th>\n",
              "      <th>CO2EMISSIONS</th>\n",
              "    </tr>\n",
              "  </thead>\n",
              "  <tbody>\n",
              "    <tr>\n",
              "      <th>0</th>\n",
              "      <td>2014</td>\n",
              "      <td>ACURA</td>\n",
              "      <td>ILX</td>\n",
              "      <td>COMPACT</td>\n",
              "      <td>2.0</td>\n",
              "      <td>4</td>\n",
              "      <td>AS5</td>\n",
              "      <td>Z</td>\n",
              "      <td>9.9</td>\n",
              "      <td>6.7</td>\n",
              "      <td>8.5</td>\n",
              "      <td>33</td>\n",
              "      <td>196</td>\n",
              "    </tr>\n",
              "    <tr>\n",
              "      <th>1</th>\n",
              "      <td>2014</td>\n",
              "      <td>ACURA</td>\n",
              "      <td>ILX</td>\n",
              "      <td>COMPACT</td>\n",
              "      <td>2.4</td>\n",
              "      <td>4</td>\n",
              "      <td>M6</td>\n",
              "      <td>Z</td>\n",
              "      <td>11.2</td>\n",
              "      <td>7.7</td>\n",
              "      <td>9.6</td>\n",
              "      <td>29</td>\n",
              "      <td>221</td>\n",
              "    </tr>\n",
              "    <tr>\n",
              "      <th>2</th>\n",
              "      <td>2014</td>\n",
              "      <td>ACURA</td>\n",
              "      <td>ILX HYBRID</td>\n",
              "      <td>COMPACT</td>\n",
              "      <td>1.5</td>\n",
              "      <td>4</td>\n",
              "      <td>AV7</td>\n",
              "      <td>Z</td>\n",
              "      <td>6.0</td>\n",
              "      <td>5.8</td>\n",
              "      <td>5.9</td>\n",
              "      <td>48</td>\n",
              "      <td>136</td>\n",
              "    </tr>\n",
              "    <tr>\n",
              "      <th>3</th>\n",
              "      <td>2014</td>\n",
              "      <td>ACURA</td>\n",
              "      <td>MDX 4WD</td>\n",
              "      <td>SUV - SMALL</td>\n",
              "      <td>3.5</td>\n",
              "      <td>6</td>\n",
              "      <td>AS6</td>\n",
              "      <td>Z</td>\n",
              "      <td>12.7</td>\n",
              "      <td>9.1</td>\n",
              "      <td>11.1</td>\n",
              "      <td>25</td>\n",
              "      <td>255</td>\n",
              "    </tr>\n",
              "    <tr>\n",
              "      <th>4</th>\n",
              "      <td>2014</td>\n",
              "      <td>ACURA</td>\n",
              "      <td>RDX AWD</td>\n",
              "      <td>SUV - SMALL</td>\n",
              "      <td>3.5</td>\n",
              "      <td>6</td>\n",
              "      <td>AS6</td>\n",
              "      <td>Z</td>\n",
              "      <td>12.1</td>\n",
              "      <td>8.7</td>\n",
              "      <td>10.6</td>\n",
              "      <td>27</td>\n",
              "      <td>244</td>\n",
              "    </tr>\n",
              "  </tbody>\n",
              "</table>\n",
              "</div>\n",
              "      <button class=\"colab-df-convert\" onclick=\"convertToInteractive('df-fcf1a93c-e5fc-45bd-8485-c49532d90baa')\"\n",
              "              title=\"Convert this dataframe to an interactive table.\"\n",
              "              style=\"display:none;\">\n",
              "        \n",
              "  <svg xmlns=\"http://www.w3.org/2000/svg\" height=\"24px\"viewBox=\"0 0 24 24\"\n",
              "       width=\"24px\">\n",
              "    <path d=\"M0 0h24v24H0V0z\" fill=\"none\"/>\n",
              "    <path d=\"M18.56 5.44l.94 2.06.94-2.06 2.06-.94-2.06-.94-.94-2.06-.94 2.06-2.06.94zm-11 1L8.5 8.5l.94-2.06 2.06-.94-2.06-.94L8.5 2.5l-.94 2.06-2.06.94zm10 10l.94 2.06.94-2.06 2.06-.94-2.06-.94-.94-2.06-.94 2.06-2.06.94z\"/><path d=\"M17.41 7.96l-1.37-1.37c-.4-.4-.92-.59-1.43-.59-.52 0-1.04.2-1.43.59L10.3 9.45l-7.72 7.72c-.78.78-.78 2.05 0 2.83L4 21.41c.39.39.9.59 1.41.59.51 0 1.02-.2 1.41-.59l7.78-7.78 2.81-2.81c.8-.78.8-2.07 0-2.86zM5.41 20L4 18.59l7.72-7.72 1.47 1.35L5.41 20z\"/>\n",
              "  </svg>\n",
              "      </button>\n",
              "      \n",
              "  <style>\n",
              "    .colab-df-container {\n",
              "      display:flex;\n",
              "      flex-wrap:wrap;\n",
              "      gap: 12px;\n",
              "    }\n",
              "\n",
              "    .colab-df-convert {\n",
              "      background-color: #E8F0FE;\n",
              "      border: none;\n",
              "      border-radius: 50%;\n",
              "      cursor: pointer;\n",
              "      display: none;\n",
              "      fill: #1967D2;\n",
              "      height: 32px;\n",
              "      padding: 0 0 0 0;\n",
              "      width: 32px;\n",
              "    }\n",
              "\n",
              "    .colab-df-convert:hover {\n",
              "      background-color: #E2EBFA;\n",
              "      box-shadow: 0px 1px 2px rgba(60, 64, 67, 0.3), 0px 1px 3px 1px rgba(60, 64, 67, 0.15);\n",
              "      fill: #174EA6;\n",
              "    }\n",
              "\n",
              "    [theme=dark] .colab-df-convert {\n",
              "      background-color: #3B4455;\n",
              "      fill: #D2E3FC;\n",
              "    }\n",
              "\n",
              "    [theme=dark] .colab-df-convert:hover {\n",
              "      background-color: #434B5C;\n",
              "      box-shadow: 0px 1px 3px 1px rgba(0, 0, 0, 0.15);\n",
              "      filter: drop-shadow(0px 1px 2px rgba(0, 0, 0, 0.3));\n",
              "      fill: #FFFFFF;\n",
              "    }\n",
              "  </style>\n",
              "\n",
              "      <script>\n",
              "        const buttonEl =\n",
              "          document.querySelector('#df-fcf1a93c-e5fc-45bd-8485-c49532d90baa button.colab-df-convert');\n",
              "        buttonEl.style.display =\n",
              "          google.colab.kernel.accessAllowed ? 'block' : 'none';\n",
              "\n",
              "        async function convertToInteractive(key) {\n",
              "          const element = document.querySelector('#df-fcf1a93c-e5fc-45bd-8485-c49532d90baa');\n",
              "          const dataTable =\n",
              "            await google.colab.kernel.invokeFunction('convertToInteractive',\n",
              "                                                     [key], {});\n",
              "          if (!dataTable) return;\n",
              "\n",
              "          const docLinkHtml = 'Like what you see? Visit the ' +\n",
              "            '<a target=\"_blank\" href=https://colab.research.google.com/notebooks/data_table.ipynb>data table notebook</a>'\n",
              "            + ' to learn more about interactive tables.';\n",
              "          element.innerHTML = '';\n",
              "          dataTable['output_type'] = 'display_data';\n",
              "          await google.colab.output.renderOutput(dataTable, element);\n",
              "          const docLink = document.createElement('div');\n",
              "          docLink.innerHTML = docLinkHtml;\n",
              "          element.appendChild(docLink);\n",
              "        }\n",
              "      </script>\n",
              "    </div>\n",
              "  </div>\n",
              "  "
            ]
          },
          "metadata": {},
          "execution_count": 42
        }
      ]
    },
    {
      "cell_type": "code",
      "source": [
        "#linear - dataset is clean and tidy (****)\n"
      ],
      "metadata": {
        "id": "o2wAt9UUYaPz"
      },
      "execution_count": null,
      "outputs": []
    },
    {
      "cell_type": "code",
      "source": [
        "#select the variables (x-FUELCONSUMPTION_HWY , y - CO2EMISSIONS)\n",
        "\n",
        "x_variable = ['FUELCONSUMPTION_HWY'] #input, Multiple input\n",
        "y_variable = ['CO2EMISSIONS'] #output\n",
        "\n",
        "len(x_variable)\n",
        "#reshape variable\n",
        "x = dataset[x_variable].values.reshape(-1,1) # 1st value is -1, next value is the length of x_variable\n",
        "y = dataset[y_variable].values.reshape(-1,1)\n",
        "print(x.shape)\n",
        "print(y.shape)\n",
        "#(or)\n",
        "z = np.array(dataset[x_variable]).reshape(-1,1)\n",
        "w = np.array(dataset[y_variable]).reshape(-1,1)\n",
        "print(z.shape)\n",
        "print(w.shape)\n",
        "\n",
        "\n",
        "\n"
      ],
      "metadata": {
        "colab": {
          "base_uri": "https://localhost:8080/"
        },
        "id": "OiTNMQ3-YzN6",
        "outputId": "94b8c6de-a610-4cce-a86e-921f85f6a97d"
      },
      "execution_count": 45,
      "outputs": [
        {
          "output_type": "stream",
          "name": "stdout",
          "text": [
            "(1067, 1)\n",
            "(1067, 1)\n",
            "(1067, 1)\n",
            "(1067, 1)\n"
          ]
        }
      ]
    },
    {
      "cell_type": "code",
      "source": [
        "#split the dataset\n",
        "x_train, x_test, y_train, y_test =  train_test_split(x, y, test_size = 0.2) # 80% for train, 20% for testing\n",
        "print(x_train.shape)\n",
        "print(x_test.shape)"
      ],
      "metadata": {
        "colab": {
          "base_uri": "https://localhost:8080/"
        },
        "id": "sOtgA2qXcVNq",
        "outputId": "c5b9bf8d-da5c-4dce-a2e9-6f6185fdc80c"
      },
      "execution_count": 52,
      "outputs": [
        {
          "output_type": "stream",
          "name": "stdout",
          "text": [
            "(853, 1)\n",
            "(214, 1)\n"
          ]
        }
      ]
    },
    {
      "cell_type": "code",
      "source": [
        "#build a model(simpleLinear)\n",
        "Lin_reg = LinearRegression()"
      ],
      "metadata": {
        "id": "1gMMFNaLdady"
      },
      "execution_count": 53,
      "outputs": []
    },
    {
      "cell_type": "code",
      "source": [
        "#training\n",
        "model = Lin_reg.fit(x_train, y_train)\n",
        "\n",
        "# y_hat = Q_0(intercept) + Q_1(slope) * x\n"
      ],
      "metadata": {
        "id": "7v7Vljwldrgq"
      },
      "execution_count": 55,
      "outputs": []
    },
    {
      "cell_type": "code",
      "source": [
        "#finding intercept & slope(Coefficient)\n",
        "Q_0 = model.intercept_\n",
        "print(Q_0)\n",
        "Q_1 = model.coef_\n",
        "print(Q_1)\n",
        "#just for understanding"
      ],
      "metadata": {
        "colab": {
          "base_uri": "https://localhost:8080/"
        },
        "id": "H9LOtiknef88",
        "outputId": "c36009bd-d3c2-4d45-880c-3b81d5735a1c"
      },
      "execution_count": 56,
      "outputs": [
        {
          "output_type": "stream",
          "name": "stdout",
          "text": [
            "[61.07413852]\n",
            "[[20.67697338]]\n"
          ]
        }
      ]
    },
    {
      "cell_type": "code",
      "source": [
        "#result prediction\n",
        "\n",
        "#lot of x values and y values\n",
        "#single x values , 10 , Y=?\n",
        "\n",
        "#predict the result using whole dataset\n",
        "\n",
        "y_predict = model.predict(x_test)\n",
        "print(y_predict)"
      ],
      "metadata": {
        "colab": {
          "base_uri": "https://localhost:8080/"
        },
        "id": "F3QIfD8pfnvr",
        "outputId": "9b9b44b9-c611-4676-9546-53b963e80113"
      },
      "execution_count": 61,
      "outputs": [
        {
          "output_type": "stream",
          "name": "stdout",
          "text": [
            "[[393.97340989]\n",
            " [178.93288677]\n",
            " [240.9638069 ]\n",
            " [286.45314833]\n",
            " [286.45314833]\n",
            " [238.89610956]\n",
            " [263.70847762]\n",
            " [247.16689891]\n",
            " [298.85933236]\n",
            " [199.60986015]\n",
            " [331.94248976]\n",
            " [228.55762287]\n",
            " [226.48992554]\n",
            " [195.47446547]\n",
            " [412.58268593]\n",
            " [336.07788443]\n",
            " [263.70847762]\n",
            " [474.61360606]\n",
            " [377.43183119]\n",
            " [236.82841223]\n",
            " [443.59814599]\n",
            " [193.40676813]\n",
            " [313.33321372]\n",
            " [238.89610956]\n",
            " [201.67755749]\n",
            " [209.94834684]\n",
            " [209.94834684]\n",
            " [238.89610956]\n",
            " [228.55762287]\n",
            " [282.31775365]\n",
            " [251.30229359]\n",
            " [249.23459625]\n",
            " [209.94834684]\n",
            " [191.3390708 ]\n",
            " [232.69301755]\n",
            " [216.15143885]\n",
            " [236.82841223]\n",
            " [362.95794982]\n",
            " [216.15143885]\n",
            " [319.53630573]\n",
            " [263.70847762]\n",
            " [236.82841223]\n",
            " [280.25005632]\n",
            " [247.16689891]\n",
            " [236.82841223]\n",
            " [236.82841223]\n",
            " [274.0469643 ]\n",
            " [191.3390708 ]\n",
            " [224.4222282 ]\n",
            " [259.57308294]\n",
            " [269.91156963]\n",
            " [205.81295216]\n",
            " [294.72393768]\n",
            " [220.28683352]\n",
            " [232.69301755]\n",
            " [203.74525482]\n",
            " [274.0469643 ]\n",
            " [214.08374151]\n",
            " [286.45314833]\n",
            " [236.82841223]\n",
            " [205.81295216]\n",
            " [245.09920158]\n",
            " [385.70262054]\n",
            " [286.45314833]\n",
            " [214.08374151]\n",
            " [216.15143885]\n",
            " [427.05656729]\n",
            " [224.4222282 ]\n",
            " [236.82841223]\n",
            " [323.67170041]\n",
            " [212.01604417]\n",
            " [261.64078028]\n",
            " [253.36999093]\n",
            " [199.60986015]\n",
            " [278.18235898]\n",
            " [286.45314833]\n",
            " [181.00058411]\n",
            " [224.4222282 ]\n",
            " [338.14558177]\n",
            " [315.40091106]\n",
            " [433.2596593 ]\n",
            " [255.43768826]\n",
            " [228.55762287]\n",
            " [224.4222282 ]\n",
            " [230.62532021]\n",
            " [325.73939775]\n",
            " [185.13597878]\n",
            " [267.84387229]\n",
            " [267.84387229]\n",
            " [232.69301755]\n",
            " [245.09920158]\n",
            " [329.87479242]\n",
            " [257.5053856 ]\n",
            " [362.95794982]\n",
            " [232.69301755]\n",
            " [315.40091106]\n",
            " [232.69301755]\n",
            " [230.62532021]\n",
            " [205.81295216]\n",
            " [255.43768826]\n",
            " [460.13972469]\n",
            " [238.89610956]\n",
            " [302.99472703]\n",
            " [253.36999093]\n",
            " [404.31189658]\n",
            " [236.82841223]\n",
            " [245.09920158]\n",
            " [249.23459625]\n",
            " [348.48406846]\n",
            " [323.67170041]\n",
            " [205.81295216]\n",
            " [305.06242437]\n",
            " [230.62532021]\n",
            " [261.64078028]\n",
            " [226.48992554]\n",
            " [226.48992554]\n",
            " [354.68716047]\n",
            " [313.33321372]\n",
            " [362.95794982]\n",
            " [185.13597878]\n",
            " [209.94834684]\n",
            " [224.4222282 ]\n",
            " [209.94834684]\n",
            " [319.53630573]\n",
            " [365.02564716]\n",
            " [243.03150424]\n",
            " [243.03150424]\n",
            " [205.81295216]\n",
            " [373.29643651]\n",
            " [238.89610956]\n",
            " [201.67755749]\n",
            " [207.8806495 ]\n",
            " [290.58854301]\n",
            " [247.16689891]\n",
            " [443.59814599]\n",
            " [176.86518943]\n",
            " [267.84387229]\n",
            " [460.13972469]\n",
            " [348.48406846]\n",
            " [280.25005632]\n",
            " [255.43768826]\n",
            " [240.9638069 ]\n",
            " [238.89610956]\n",
            " [261.64078028]\n",
            " [274.0469643 ]\n",
            " [377.43183119]\n",
            " [193.40676813]\n",
            " [280.25005632]\n",
            " [484.95209275]\n",
            " [222.35453086]\n",
            " [371.22873917]\n",
            " [286.45314833]\n",
            " [234.76071489]\n",
            " [240.9638069 ]\n",
            " [232.69301755]\n",
            " [319.53630573]\n",
            " [259.57308294]\n",
            " [224.4222282 ]\n",
            " [193.40676813]\n",
            " [236.82841223]\n",
            " [466.34281671]\n",
            " [197.54216281]\n",
            " [185.13597878]\n",
            " [389.83801521]\n",
            " [181.00058411]\n",
            " [240.9638069 ]\n",
            " [352.61946314]\n",
            " [288.52084567]\n",
            " [263.70847762]\n",
            " [222.35453086]\n",
            " [238.89610956]\n",
            " [172.72979476]\n",
            " [216.15143885]\n",
            " [183.06828145]\n",
            " [201.67755749]\n",
            " [174.7974921 ]\n",
            " [220.28683352]\n",
            " [261.64078028]\n",
            " [263.70847762]\n",
            " [354.68716047]\n",
            " [238.89610956]\n",
            " [253.36999093]\n",
            " [249.23459625]\n",
            " [183.06828145]\n",
            " [220.28683352]\n",
            " [203.74525482]\n",
            " [232.69301755]\n",
            " [230.62532021]\n",
            " [201.67755749]\n",
            " [259.57308294]\n",
            " [247.16689891]\n",
            " [261.64078028]\n",
            " [263.70847762]\n",
            " [356.75485781]\n",
            " [230.62532021]\n",
            " [212.01604417]\n",
            " [257.5053856 ]\n",
            " [209.94834684]\n",
            " [296.79163502]\n",
            " [243.03150424]\n",
            " [232.69301755]\n",
            " [406.37959391]\n",
            " [222.35453086]\n",
            " [193.40676813]\n",
            " [205.81295216]\n",
            " [263.70847762]\n",
            " [212.01604417]\n",
            " [327.80709508]\n",
            " [253.36999093]\n",
            " [251.30229359]\n",
            " [222.35453086]\n",
            " [226.48992554]\n",
            " [296.79163502]\n",
            " [218.21913619]]\n"
          ]
        }
      ]
    },
    {
      "cell_type": "code",
      "source": [
        "#predict the single value?\n",
        "x_assum = np.array([5]) # if 'FUELCONSUMPTION_HWY value is 250, what is the answer(CO2emission)?\n",
        "x_assum = x_assum.reshape(-1,1)\n",
        "\n",
        "y_predict = model.predict(x_assum)\n",
        "print(y_predict)\n",
        "\n"
      ],
      "metadata": {
        "colab": {
          "base_uri": "https://localhost:8080/"
        },
        "id": "lgfnBsSokeyT",
        "outputId": "1cb8810f-e6ca-47cc-9c5f-e35b7d9dff28"
      },
      "execution_count": 60,
      "outputs": [
        {
          "output_type": "stream",
          "name": "stdout",
          "text": [
            "[[164.45900541]]\n"
          ]
        }
      ]
    },
    {
      "cell_type": "code",
      "source": [
        "#graph\n",
        "plt.scatter(x_test, y_test, color = \"Blue\")\n",
        "plt.plot(x_test, y_predict, color = \"Red\")\n",
        "plt.show()"
      ],
      "metadata": {
        "colab": {
          "base_uri": "https://localhost:8080/",
          "height": 268
        },
        "id": "1uyaMgT_l-sz",
        "outputId": "65b3dd14-ee89-4921-8f9c-bed1d02620d0"
      },
      "execution_count": 64,
      "outputs": [
        {
          "output_type": "display_data",
          "data": {
            "text/plain": [
              "<Figure size 432x288 with 1 Axes>"
            ],
            "image/png": "[encoded data removed]"
          },
          "metadata": {
            "needs_background": "light"
          }
        }
      ]
    },
    {
      "cell_type": "markdown",
      "source": [
        "\n",
        "Task:\n",
        "\n",
        "1. MSE,Absolute errr and R^2"
      ],
      "metadata": {
        "id": "IHgKt7ujp22r"
      }
    },
    {
      "cell_type": "code",
      "source": [
        "#Multiple Linear regression\n",
        "#select the variables (x-FUELCONSUMPTION_HWY , y - CO2EMISSIONS)\n",
        "\n",
        "x_variable1 = ['FUELCONSUMPTION_HWY','ENGINESIZE','CYLINDERS' ] #input, Multiple input\n",
        "y_variable1 = ['CO2EMISSIONS'] #output\n",
        "\n",
        "len(x_variable)\n",
        "#reshape variable\n",
        "x1 = dataset[x_variable1].values.reshape(-1,3) # 1st value is -1, next value is the length of x_variable\n",
        "y1 = dataset[y_variable1].values.reshape(-1,1)\n",
        "print(x1.shape)\n",
        "print(y1.shape)\n",
        "#(or)"
      ],
      "metadata": {
        "colab": {
          "base_uri": "https://localhost:8080/"
        },
        "id": "1qXwvnd8qJAD",
        "outputId": "24457b6c-fb35-4add-9b8f-a5d2437fc955"
      },
      "execution_count": 65,
      "outputs": [
        {
          "output_type": "stream",
          "name": "stdout",
          "text": [
            "(1067, 3)\n",
            "(1067, 1)\n"
          ]
        }
      ]
    },
    {
      "cell_type": "code",
      "source": [
        "#split the dataset\n",
        "x_train1, x_test1, y_train1, y_test1 =  train_test_split(x1, y1, test_size = 0.2) # 80% for train, 20% for testing\n",
        "print(x_train1.shape)\n",
        "print(x_test1.shape)"
      ],
      "metadata": {
        "colab": {
          "base_uri": "https://localhost:8080/"
        },
        "id": "ZK9Lwi8Vq2uF",
        "outputId": "2e9533e5-f52a-4bbd-8395-0e59c3192748"
      },
      "execution_count": 66,
      "outputs": [
        {
          "output_type": "stream",
          "name": "stdout",
          "text": [
            "(853, 3)\n",
            "(214, 3)\n"
          ]
        }
      ]
    },
    {
      "cell_type": "code",
      "source": [
        "#build a model(multipleLinear)\n",
        "Lin_reg1 = LinearRegression()"
      ],
      "metadata": {
        "id": "tZQoMqtQrFOE"
      },
      "execution_count": 67,
      "outputs": []
    },
    {
      "cell_type": "code",
      "source": [
        "#training\n",
        "model1 = Lin_reg.fit(x_train1, y_train1)\n",
        "\n",
        "# y_hat = Q_0(intercept) + Q_1(slope) * FUELCONSUMPTION_HWY'+ Q_2*'ENGINESIZE'+ Q_3 *'CYLINDERS\n"
      ],
      "metadata": {
        "id": "e6tI5JNzrJIb"
      },
      "execution_count": 69,
      "outputs": []
    },
    {
      "cell_type": "code",
      "source": [
        "#finding intercept & slope(Coefficient)\n",
        "Q_0 = model.intercept_\n",
        "print(Q_0)\n",
        "Q_1 = model.coef_\n",
        "print(Q_1)\n",
        "#just for understanding"
      ],
      "metadata": {
        "colab": {
          "base_uri": "https://localhost:8080/"
        },
        "id": "3Qrk-DkTrPJa",
        "outputId": "fe438295-78e3-40ff-d77a-247d06d2a44a"
      },
      "execution_count": 70,
      "outputs": [
        {
          "output_type": "stream",
          "name": "stdout",
          "text": [
            "[64.09070335]\n",
            "[[10.61393765 11.83498457  9.0650084 ]]\n"
          ]
        }
      ]
    },
    {
      "cell_type": "code",
      "source": [
        "y_predict1 = model1.predict(x_test1)\n",
        "print(y_predict1)"
      ],
      "metadata": {
        "colab": {
          "base_uri": "https://localhost:8080/"
        },
        "id": "zjvx50eMrzzi",
        "outputId": "7484a2b3-41e9-405f-f876-2171fc6125aa"
      },
      "execution_count": 71,
      "outputs": [
        {
          "output_type": "stream",
          "name": "stdout",
          "text": [
            "[[262.61418557]\n",
            " [395.6940353 ]\n",
            " [301.718409  ]\n",
            " [228.03729506]\n",
            " [249.99956508]\n",
            " [395.6940353 ]\n",
            " [198.31826964]\n",
            " [214.23917611]\n",
            " [200.44105717]\n",
            " [317.1508967 ]\n",
            " [190.40009452]\n",
            " [317.1508967 ]\n",
            " [198.89124464]\n",
            " [386.96220894]\n",
            " [251.18306354]\n",
            " [352.21443941]\n",
            " [198.31826964]\n",
            " [221.09595747]\n",
            " [212.11638858]\n",
            " [191.46148828]\n",
            " [346.86992211]\n",
            " [281.8789265 ]\n",
            " [318.45649985]\n",
            " [214.23917611]\n",
            " [238.44633836]\n",
            " [191.2172789 ]\n",
            " [207.87081352]\n",
            " [187.21591322]\n",
            " [216.85038241]\n",
            " [271.47164977]\n",
            " [302.00962614]\n",
            " [193.58427581]\n",
            " [283.63539995]\n",
            " [191.46148828]\n",
            " [261.91910588]\n",
            " [346.90747058]\n",
            " [255.79495268]\n",
            " [189.82711952]\n",
            " [197.82985087]\n",
            " [271.59375446]\n",
            " [265.10328718]\n",
            " [183.21454755]\n",
            " [296.37212513]\n",
            " [257.91774021]\n",
            " [245.87609472]\n",
            " [305.43625024]\n",
            " [190.15588513]\n",
            " [199.37966341]\n",
            " [199.9526384 ]\n",
            " [250.12166978]\n",
            " [286.90590404]\n",
            " [259.67421366]\n",
            " [195.13408835]\n",
            " [200.44105717]\n",
            " [342.66189552]\n",
            " [341.68505798]\n",
            " [350.05410341]\n",
            " [221.79192045]\n",
            " [282.57400619]\n",
            " [191.94990705]\n",
            " [250.81674946]\n",
            " [212.72691205]\n",
            " [250.57254008]\n",
            " [272.65514822]\n",
            " [249.3044854 ]\n",
            " [266.28678563]\n",
            " [292.12655007]\n",
            " [185.33733508]\n",
            " [206.32100099]\n",
            " [215.91109334]\n",
            " [300.12928142]\n",
            " [204.68663223]\n",
            " [190.40009452]\n",
            " [292.70129164]\n",
            " [336.22020257]\n",
            " [185.33733508]\n",
            " [194.07269458]\n",
            " [267.3481794 ]\n",
            " [245.05891034]\n",
            " [185.58154446]\n",
            " [342.66189552]\n",
            " [350.05410341]\n",
            " [208.93220729]\n",
            " [302.98646368]\n",
            " [203.62523846]\n",
            " [191.37693206]\n",
            " [265.34749656]\n",
            " [295.15284478]\n",
            " [251.06095885]\n",
            " [202.5638447 ]\n",
            " [343.72328929]\n",
            " [255.8795089 ]\n",
            " [256.61213706]\n",
            " [209.54273075]\n",
            " [191.70569767]\n",
            " [202.07542593]\n",
            " [278.90140612]\n",
            " [247.38835878]\n",
            " [217.42335741]\n",
            " [279.96279988]\n",
            " [247.18169787]\n",
            " [204.23576193]\n",
            " [207.38239475]\n",
            " [238.89720867]\n",
            " [266.16468094]\n",
            " [256.49003237]\n",
            " [263.10260434]\n",
            " [368.3420068 ]\n",
            " [331.27778125]\n",
            " [188.15520229]\n",
            " [258.6128199 ]\n",
            " [269.67762785]\n",
            " [210.60412452]\n",
            " [295.55670732]\n",
            " [202.07542593]\n",
            " [251.18306354]\n",
            " [215.78898865]\n",
            " [194.68321804]\n",
            " [225.34153253]\n",
            " [395.6940353 ]\n",
            " [242.32559935]\n",
            " [254.81811514]\n",
            " [193.58427581]\n",
            " [346.0902862 ]\n",
            " [216.36196364]\n",
            " [292.57742037]\n",
            " [247.38835878]\n",
            " [207.41994322]\n",
            " [221.91490843]\n",
            " [294.82231259]\n",
            " [206.80941976]\n",
            " [228.9783507 ]\n",
            " [305.10925121]\n",
            " [271.47164977]\n",
            " [258.36861051]\n",
            " [252.24445731]\n",
            " [388.02360271]\n",
            " [297.43528547]\n",
            " [221.09595747]\n",
            " [354.29967847]\n",
            " [254.24514014]\n",
            " [314.41758571]\n",
            " [163.62015772]\n",
            " [200.44105717]\n",
            " [162.80297334]\n",
            " [254.81811514]\n",
            " [180.60334125]\n",
            " [245.87609472]\n",
            " [334.17074541]\n",
            " [195.13408835]\n",
            " [268.28746847]\n",
            " [398.91576506]\n",
            " [359.5708654 ]\n",
            " [266.16468094]\n",
            " [184.5201507 ]\n",
            " [202.07542593]\n",
            " [243.75330719]\n",
            " [191.94990705]\n",
            " [206.80941976]\n",
            " [207.87081352]\n",
            " [209.99360105]\n",
            " [207.87081352]\n",
            " [207.87081352]\n",
            " [311.0267435 ]\n",
            " [203.62523846]\n",
            " [200.44105717]\n",
            " [259.0636902 ]\n",
            " [304.04785744]\n",
            " [408.55286517]\n",
            " [179.66405218]\n",
            " [304.04785744]\n",
            " [193.58427581]\n",
            " [247.38835878]\n",
            " [346.86992211]\n",
            " [291.0651563 ]\n",
            " [231.46745231]\n",
            " [258.6128199 ]\n",
            " [184.5201507 ]\n",
            " [215.30056988]\n",
            " [193.01130082]\n",
            " [256.49003237]\n",
            " [242.08138996]\n",
            " [198.9287931 ]\n",
            " [256.73424175]\n",
            " [322.09155145]\n",
            " [241.75262435]\n",
            " [293.06760572]\n",
            " [204.68663223]\n",
            " [231.46745231]\n",
            " [307.68114246]\n",
            " [290.57850411]\n",
            " [254.81811514]\n",
            " [241.63051966]\n",
            " [187.46012261]\n",
            " [285.26976871]\n",
            " [201.99086971]\n",
            " [274.44917014]\n",
            " [204.68663223]\n",
            " [362.75504669]\n",
            " [202.5638447 ]\n",
            " [306.37553931]\n",
            " [266.16468094]\n",
            " [254.36724484]\n",
            " [212.11638858]\n",
            " [201.50245094]\n",
            " [188.52151637]\n",
            " [251.18306354]\n",
            " [292.94550102]\n",
            " [204.19821346]\n",
            " [181.78683971]\n",
            " [362.82837706]\n",
            " [302.25206895]\n",
            " [252.366562  ]\n",
            " [245.87609472]]\n"
          ]
        }
      ]
    },
    {
      "cell_type": "code",
      "source": [
        "#predict the single value?\n",
        "x_assum1 = np.array([30,3,50]) \n",
        "x_assum1 = x_assum1.reshape(-1,1)\n",
        "\n",
        "y_predict1 = model.predict(x_assum)\n",
        "print(y_predict1)\n"
      ],
      "metadata": {
        "id": "rKfXGFd9r52b"
      },
      "execution_count": null,
      "outputs": []
    },
    {
      "cell_type": "code",
      "source": [
        ""
      ],
      "metadata": {
        "id": "9E1K1aNEsax7"
      },
      "execution_count": null,
      "outputs": []
    },
    {
      "cell_type": "markdown",
      "source": [
        "Task:\n",
        "1. Simple Linear - MSE, Absolute error, R^2\n",
        "2. Repeat the same for Multiple lR\n",
        "3. Graph for Multiple"
      ],
      "metadata": {
        "id": "F7wnC87escAQ"
      }
    },
    {
      "cell_type": "code",
      "source": [
        ""
      ],
      "metadata": {
        "id": "URClUelps2Ja"
      },
      "execution_count": null,
      "outputs": []
    }
  ]
}